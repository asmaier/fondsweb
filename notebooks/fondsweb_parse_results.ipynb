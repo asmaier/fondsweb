{
 "cells": [
  {
   "cell_type": "code",
   "execution_count": null,
   "id": "61b167b6-e2e8-43cc-bfa6-07e9affb44b3",
   "metadata": {},
   "outputs": [],
   "source": [
    "from fondsweb import fondsweb as fw"
   ]
  },
  {
   "cell_type": "code",
   "execution_count": 2,
   "id": "40797c89-8cb2-42a2-b66c-5402e809cb35",
   "metadata": {},
   "outputs": [
    {
     "name": "stdout",
     "output_type": "stream",
     "text": [
      "https://www.fondsweb.com/de/suchen/afocus/2-123/sort/sharpe1j\n"
     ]
    }
   ],
   "source": [
    "response = fw.search_fondsweb(afocus=[\"Aktienfonds\"], sort=\"Sharpe Ratio 1 Jahr\")"
   ]
  },
  {
   "cell_type": "code",
   "execution_count": 3,
   "id": "b12ebc0a",
   "metadata": {},
   "outputs": [
    {
     "name": "stdout",
     "output_type": "stream",
     "text": [
      "6.33 39.74 LI0181971842 ASPOMA Japan Opportunities Fund E\n",
      "6.31 41.74 LI0393642439 ASPOMA Japan Opportunities Fund A\n",
      "5.71 58.19 IE000YYE6WK5 VanEck Defense UCITS ETF USD A\n",
      "5.32 71.47 IE000JCW3DZ3 Global X Defence Tech UCITS ETF USD thes.\n",
      "4.73 63.91 LU0832413909 ALKEN FUND - European Opportunities US1\n",
      "4.69 63.48 LU0866838492 ALKEN FUND - European Opportunities US2\n",
      "4.65 63.44 LU0235308136 ALKEN FUND - European Opportunities H\n",
      "4.65 63.36 LU0866838575 ALKEN FUND - European Opportunities EU1\n",
      "4.63 63.13 LU0432793510 ALKEN FUND - European Opportunities Z\n",
      "4.63 63.08 LU0235308482 ALKEN FUND - European Opportunities R\n"
     ]
    }
   ],
   "source": [
    "for entry in response[:10]:\n",
    "    print(entry[\"sharpe\"], entry[\"year_1\"], entry[\"isin\"], entry[\"name\"])"
   ]
  },
  {
   "cell_type": "code",
   "execution_count": 4,
   "id": "77f1a84c-0c4c-43d1-a0e6-72ee6ad11cfc",
   "metadata": {},
   "outputs": [
    {
     "data": {
      "text/plain": [
       "{'name': 'Amundi STOXX Europe 600 Banks UCITS ETF Acc',\n",
       " 'currency': 'EUR',\n",
       " 'costs': 0.3,\n",
       " 'fund_vol': 1520550000.0,\n",
       " 'per (EUR)': {0: 54.72, 1: 60.55, 3: 42.21, 5: 37.15},\n",
       " 'vol': {1: 16.1, 3: 19.01, 5: 23.43},\n",
       " 'sharpe': {1: 3.66, 3: 2.22, 5: 1.49}}"
      ]
     },
     "execution_count": 4,
     "metadata": {},
     "output_type": "execute_result"
    }
   ],
   "source": [
    "fw.get_fund(\"LU1834983477\")"
   ]
  },
  {
   "cell_type": "code",
   "execution_count": 5,
   "id": "fe272e14-a1db-4d54-9e0b-ed553e332222",
   "metadata": {},
   "outputs": [
    {
     "data": {
      "text/plain": [
       "{'name': 'Invesco Technology S&P US Select Sector UCITS ETF A',\n",
       " 'currency': 'USD',\n",
       " 'costs': 0.14,\n",
       " 'fund_vol': 1511400000.0,\n",
       " 'per (EUR)': {0: 18.82, 1: 23.94, 3: 34.92, 5: 26.91, 10: 23.65, 15: 22.19},\n",
       " 'vol': {1: 22.62, 3: 20.56, 5: 21.01, 10: 19.35},\n",
       " 'sharpe': {1: 0.91, 3: 1.52, 5: 1.07, 10: 1.22}}"
      ]
     },
     "execution_count": 5,
     "metadata": {},
     "output_type": "execute_result"
    }
   ],
   "source": [
    "fw.get_fund(\"IE00B3VSSL01\")"
   ]
  },
  {
   "cell_type": "code",
   "execution_count": 6,
   "id": "a6b41b9f-6d63-4533-8072-8078656a7078",
   "metadata": {},
   "outputs": [
    {
     "data": {
      "text/plain": [
       "{'name': 'GAM Japan Equity (JPY) A',\n",
       " 'currency': 'JPY',\n",
       " 'costs': 1.91,\n",
       " 'fund_vol': 4905460000.0,\n",
       " 'per (EUR)': {0: 4.58,\n",
       "  1: 3.26,\n",
       "  3: 5.11,\n",
       "  5: 1.95,\n",
       "  10: 3.19,\n",
       "  15: 6.03,\n",
       "  20: 3.38},\n",
       " 'vol': {1: 11.47, 3: 11.42, 5: 12.78, 10: 13.2},\n",
       " 'sharpe': {1: -0.11, 3: 0.21, 5: 0.07, 10: 0.31}}"
      ]
     },
     "execution_count": 6,
     "metadata": {},
     "output_type": "execute_result"
    }
   ],
   "source": [
    "fw.get_fund(\"LU0044849833\")"
   ]
  },
  {
   "cell_type": "code",
   "execution_count": 7,
   "id": "88ead66a-cd44-4bf0-8552-05598557aa7b",
   "metadata": {},
   "outputs": [
    {
     "data": {
      "text/plain": [
       "{'name': 'Fondra A',\n",
       " 'currency': 'EUR',\n",
       " 'costs': 1.4,\n",
       " 'fund_vol': 87270000.0,\n",
       " 'per (EUR)': {0: 3.77,\n",
       "  1: 1.95,\n",
       "  3: 5.92,\n",
       "  5: 1.62,\n",
       "  10: 1.29,\n",
       "  15: 2.37,\n",
       "  20: 3.43},\n",
       " 'vol': {1: 6.56, 3: 7.54, 5: 9.53, 10: 9.28},\n",
       " 'sharpe': {1: -0.19, 3: 0.53, 5: -0.09, 10: 0.13}}"
      ]
     },
     "execution_count": 7,
     "metadata": {},
     "output_type": "execute_result"
    }
   ],
   "source": [
    "fw.get_fund(\"DE0008471004\")"
   ]
  },
  {
   "cell_type": "code",
   "execution_count": 8,
   "id": "76cdcecc-828e-45de-a982-97fc27a7cc39",
   "metadata": {},
   "outputs": [
    {
     "data": {
      "text/plain": [
       "{'name': 'VanEck Defense UCITS ETF USD A',\n",
       " 'currency': 'USD',\n",
       " 'costs': 0.58,\n",
       " 'fund_vol': 7707600000.0,\n",
       " 'per (EUR)': {0: 57.27, 1: 58.19},\n",
       " 'vol': {1: 13.53},\n",
       " 'sharpe': {1: 5.71}}"
      ]
     },
     "execution_count": 8,
     "metadata": {},
     "output_type": "execute_result"
    }
   ],
   "source": [
    "fw.get_fund(\"IE000YYE6WK5\")"
   ]
  },
  {
   "cell_type": "code",
   "execution_count": 9,
   "id": "95b20a57-23d6-4fae-9426-9683de61df76",
   "metadata": {},
   "outputs": [
    {
     "data": {
      "text/plain": [
       "[  Anteilklasse Insti Währung Hedged Ausschüttend Sum. lfd. Kosten\n",
       " 0            A          EUR                              1,40%,\n",
       "        Unnamed: 0 Fonds in EUR Sektor in EUR\n",
       " 0  laufendes Jahr       +3,77%        +5,74%\n",
       " 1          1 Jahr       +1,95%        +6,36%\n",
       " 2         3 Jahre      +18,85%       +24,27%\n",
       " 3         5 Jahre       +8,34%       +24,66%\n",
       " 4        10 Jahre      +13,69%       +27,65%\n",
       " 5        15 Jahre      +42,17%       +60,50%\n",
       " 6        20 Jahre      +96,49%       +89,16%,\n",
       "   Unnamed: 0 Fonds in EUR Sektor in EUR\n",
       " 0        NaN          NaN           NaN\n",
       " 1     1 Jahr       +1,95%        +6,36%\n",
       " 2    3 Jahre       +5,92%        +7,51%\n",
       " 3    5 Jahre       +1,62%        +4,51%\n",
       " 4   10 Jahre       +1,29%        +2,47%\n",
       " 5   15 Jahre       +2,37%        +3,20%\n",
       " 6   20 Jahre       +3,43%        +3,24%,\n",
       "                               0      1\n",
       " 0   Maximaler Ausgabeaufschlag  5,00%\n",
       " 1     Maximale Rücknahmegebühr  0,00%\n",
       " 2        Summe laufende Kosten  1,40%\n",
       " 3  Portfoliotransaktionskosten  0,00%\n",
       " 4     Sonstige laufende Kosten  1,40%,\n",
       "                0                                              1\n",
       " 0       Domizil                                    Deutschland\n",
       " 1     Depotbank  State Street Bank International GmbH, München\n",
       " 2  Auflagedatum                                     18.08.1950\n",
       " 3  Fondsvolumen             87,27 Mio. EUR (Stand: 30.09.2025),\n",
       "                         0           1\n",
       " 0   Volatilität (1 Jahr)       6,56%\n",
       " 1   Volatilität (3 Jahre)       7,54%\n",
       " 2   Volatilität (5 Jahre)       9,53%\n",
       " 3  Volatilität (10 Jahre)       9,28%\n",
       " 4          12-Monats-Hoch  124,51 EUR\n",
       " 5          12-Monats-Tief  111,03 EUR,\n",
       "                          0       1\n",
       " 0   Sharpe Ratio (1 Jahr)   -0.19\n",
       " 1   Sharpe Ratio (3 Jahre)    0.53\n",
       " 2   Sharpe Ratio (5 Jahre)   -0.09\n",
       " 3  Sharpe Ratio (10 Jahre)    0.13\n",
       " 4        Maximum Drawdown  47,71%]"
      ]
     },
     "execution_count": 9,
     "metadata": {},
     "output_type": "execute_result"
    }
   ],
   "source": [
    "response = fw.get_fund(\"DE0008471004\", debug=True)\n",
    "response"
   ]
  },
  {
   "cell_type": "code",
   "execution_count": 10,
   "id": "9eb6566b",
   "metadata": {},
   "outputs": [
    {
     "data": {
      "text/plain": [
       "'1,40%'"
      ]
     },
     "execution_count": 10,
     "metadata": {},
     "output_type": "execute_result"
    }
   ],
   "source": [
    "response[0][\"Sum. lfd. Kosten\"][0]\n"
   ]
  },
  {
   "cell_type": "code",
   "execution_count": 11,
   "id": "2a9f1063",
   "metadata": {},
   "outputs": [
    {
     "data": {
      "text/plain": [
       "['-0.19', '0.53', '-0.09', '0.13']"
      ]
     },
     "execution_count": 11,
     "metadata": {},
     "output_type": "execute_result"
    }
   ],
   "source": [
    "list(response[-1].iloc[:-1, 1])"
   ]
  },
  {
   "cell_type": "code",
   "execution_count": 12,
   "id": "f821d3ab-b5c3-45e5-8d4d-29a702584842",
   "metadata": {},
   "outputs": [
    {
     "data": {
      "text/html": [
       "<div>\n",
       "<style scoped>\n",
       "    .dataframe tbody tr th:only-of-type {\n",
       "        vertical-align: middle;\n",
       "    }\n",
       "\n",
       "    .dataframe tbody tr th {\n",
       "        vertical-align: top;\n",
       "    }\n",
       "\n",
       "    .dataframe thead th {\n",
       "        text-align: right;\n",
       "    }\n",
       "</style>\n",
       "<table border=\"1\" class=\"dataframe\">\n",
       "  <thead>\n",
       "    <tr style=\"text-align: right;\">\n",
       "      <th></th>\n",
       "      <th>Unnamed: 0</th>\n",
       "      <th>Fonds in EUR</th>\n",
       "      <th>Sektor in EUR</th>\n",
       "    </tr>\n",
       "  </thead>\n",
       "  <tbody>\n",
       "    <tr>\n",
       "      <th>1</th>\n",
       "      <td>1 Jahr</td>\n",
       "      <td>+1,95%</td>\n",
       "      <td>+6,36%</td>\n",
       "    </tr>\n",
       "    <tr>\n",
       "      <th>2</th>\n",
       "      <td>3 Jahre</td>\n",
       "      <td>+5,92%</td>\n",
       "      <td>+7,51%</td>\n",
       "    </tr>\n",
       "    <tr>\n",
       "      <th>3</th>\n",
       "      <td>5 Jahre</td>\n",
       "      <td>+1,62%</td>\n",
       "      <td>+4,51%</td>\n",
       "    </tr>\n",
       "    <tr>\n",
       "      <th>4</th>\n",
       "      <td>10 Jahre</td>\n",
       "      <td>+1,29%</td>\n",
       "      <td>+2,47%</td>\n",
       "    </tr>\n",
       "    <tr>\n",
       "      <th>5</th>\n",
       "      <td>15 Jahre</td>\n",
       "      <td>+2,37%</td>\n",
       "      <td>+3,20%</td>\n",
       "    </tr>\n",
       "    <tr>\n",
       "      <th>6</th>\n",
       "      <td>20 Jahre</td>\n",
       "      <td>+3,43%</td>\n",
       "      <td>+3,24%</td>\n",
       "    </tr>\n",
       "  </tbody>\n",
       "</table>\n",
       "</div>"
      ],
      "text/plain": [
       "  Unnamed: 0 Fonds in EUR Sektor in EUR\n",
       "1     1 Jahr       +1,95%        +6,36%\n",
       "2    3 Jahre       +5,92%        +7,51%\n",
       "3    5 Jahre       +1,62%        +4,51%\n",
       "4   10 Jahre       +1,29%        +2,47%\n",
       "5   15 Jahre       +2,37%        +3,20%\n",
       "6   20 Jahre       +3,43%        +3,24%"
      ]
     },
     "execution_count": 12,
     "metadata": {},
     "output_type": "execute_result"
    }
   ],
   "source": [
    "[col for col in response[-5].columns if 'Fonds' and 'EUR' in col]\n",
    "\n",
    "response[-5].iloc[1:]"
   ]
  },
  {
   "cell_type": "code",
   "execution_count": 13,
   "id": "4eb9f844-16b4-4865-8399-b6114646410b",
   "metadata": {},
   "outputs": [],
   "source": [
    "column = [col for col in response[-5].columns if 'Fonds' in col and 'EUR' in col][0]"
   ]
  },
  {
   "cell_type": "code",
   "execution_count": 14,
   "id": "7f96b5be-924d-43be-9ade-e62899f057b3",
   "metadata": {},
   "outputs": [
    {
     "data": {
      "text/plain": [
       "['+1,95%', '+5,92%', '+1,62%', '+1,29%', '+2,37%', '+3,43%']"
      ]
     },
     "execution_count": 14,
     "metadata": {},
     "output_type": "execute_result"
    }
   ],
   "source": [
    "list(response[-5].iloc[1:][column])"
   ]
  },
  {
   "cell_type": "code",
   "execution_count": 15,
   "id": "ae5ed02b-b9ae-4af1-888b-c4e50061d4a7",
   "metadata": {},
   "outputs": [
    {
     "data": {
      "text/plain": [
       "'+3,77%'"
      ]
     },
     "execution_count": 15,
     "metadata": {},
     "output_type": "execute_result"
    }
   ],
   "source": [
    "response[-6].iloc[0][column]"
   ]
  },
  {
   "cell_type": "code",
   "execution_count": null,
   "id": "f77b4bfd-5502-4684-891c-2ad4ed6b3863",
   "metadata": {},
   "outputs": [],
   "source": []
  }
 ],
 "metadata": {
  "kernelspec": {
   "display_name": "fondsweb",
   "language": "python",
   "name": "python3"
  },
  "language_info": {
   "codemirror_mode": {
    "name": "ipython",
    "version": 3
   },
   "file_extension": ".py",
   "mimetype": "text/x-python",
   "name": "python",
   "nbconvert_exporter": "python",
   "pygments_lexer": "ipython3",
   "version": "3.12.3"
  }
 },
 "nbformat": 4,
 "nbformat_minor": 5
}
